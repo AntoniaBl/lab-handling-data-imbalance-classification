{
 "cells": [
  {
   "cell_type": "markdown",
   "id": "ec0df0a9",
   "metadata": {},
   "source": [
    "# Instructions Lab | Handling Data Imbalance in Classification Models\n",
    "\n",
    "For this lab and in the next lessons we will build a model on customer churn binary classification problem. You will be using `files_for_lab/Customer-Churn.csv` file.\n",
    "\n",
    "**Scenario**\n",
    "\n",
    "You are working as an analyst with this internet service provider. You are provided with this historical data about your company's customers and their churn trends. Your task is to build a machine learning model that will help the company identify customers that are more likely to default/churn and thus prevent losses from such customers.\n",
    "\n",
    "**Instructions**\n",
    "\n",
    "In this lab, we will first take a look at the degree of imbalance in the data and correct it using the techniques we learned on the class.\n",
    "\n",
    "Here is the list of steps to be followed (building a simple model without balancing the data):\n",
    "\n",
    "- Import the required libraries and modules that you would need.\n",
    "- Read that data into Python and call the dataframe `churnData`.\n",
    "- Check the datatypes of all the columns in the data. You would see that the column `TotalCharges` is object type. Convert this column into numeric type using `pd.to_numeric` function.\n",
    "- Check for null values in the dataframe. Replace the null values.\n",
    "- Use the following features: `tenure`, `SeniorCitizen`, `MonthlyCharges` and `TotalCharges`:\n",
    "  - Scale the features either by using normalizer or a standard scaler.\n",
    "  - Split the data into a training set and a test set.\n",
    "  - Fit a logistic regression model on the training data.\n",
    "  - Check the accuracy on the test data.\n",
    "\n",
    "**Note**: So far we have not balanced the data.\n",
    "\n",
    "Managing imbalance in the dataset\n",
    "\n",
    "- Check for the imbalance.\n",
    "- Use the resampling strategies used in class for upsampling and downsampling to create a balance between the two classes.\n",
    "- Each time fit the model and see how the accuracy of the model is."
   ]
  },
  {
   "cell_type": "markdown",
   "id": "c2911b33",
   "metadata": {},
   "source": [
    "# Import Libraries"
   ]
  },
  {
   "cell_type": "code",
   "execution_count": 196,
   "id": "8ddbd90d",
   "metadata": {},
   "outputs": [],
   "source": [
    "#Import libraries\n",
    "import pandas as pd\n",
    "import numpy as np\n",
    "pd.set_option('display.max_columns', None)\n",
    "import warnings\n",
    "warnings.filterwarnings('ignore')\n",
    "import statsmodels.api as sm\n",
    "import seaborn as sns\n",
    "\n",
    "\n",
    "from sklearn import metrics\n",
    "from sklearn.metrics import confusion_matrix\n",
    "from sklearn.model_selection import train_test_split\n",
    "from sklearn.linear_model import LogisticRegression\n",
    "from sklearn.preprocessing import StandardScaler\n",
    "from imblearn.over_sampling import SMOTE \n",
    "from imblearn.under_sampling import TomekLinks\n",
    "\n"
   ]
  },
  {
   "cell_type": "markdown",
   "id": "043a2e22",
   "metadata": {},
   "source": [
    "# Data Cleaning "
   ]
  },
  {
   "cell_type": "code",
   "execution_count": 197,
   "id": "442cdbd7",
   "metadata": {},
   "outputs": [
    {
     "data": {
      "text/html": [
       "<div>\n",
       "<style scoped>\n",
       "    .dataframe tbody tr th:only-of-type {\n",
       "        vertical-align: middle;\n",
       "    }\n",
       "\n",
       "    .dataframe tbody tr th {\n",
       "        vertical-align: top;\n",
       "    }\n",
       "\n",
       "    .dataframe thead th {\n",
       "        text-align: right;\n",
       "    }\n",
       "</style>\n",
       "<table border=\"1\" class=\"dataframe\">\n",
       "  <thead>\n",
       "    <tr style=\"text-align: right;\">\n",
       "      <th></th>\n",
       "      <th>gender</th>\n",
       "      <th>SeniorCitizen</th>\n",
       "      <th>Partner</th>\n",
       "      <th>Dependents</th>\n",
       "      <th>tenure</th>\n",
       "      <th>PhoneService</th>\n",
       "      <th>OnlineSecurity</th>\n",
       "      <th>OnlineBackup</th>\n",
       "      <th>DeviceProtection</th>\n",
       "      <th>TechSupport</th>\n",
       "      <th>StreamingTV</th>\n",
       "      <th>StreamingMovies</th>\n",
       "      <th>Contract</th>\n",
       "      <th>MonthlyCharges</th>\n",
       "      <th>TotalCharges</th>\n",
       "      <th>Churn</th>\n",
       "    </tr>\n",
       "  </thead>\n",
       "  <tbody>\n",
       "    <tr>\n",
       "      <th>0</th>\n",
       "      <td>Female</td>\n",
       "      <td>0</td>\n",
       "      <td>Yes</td>\n",
       "      <td>No</td>\n",
       "      <td>1</td>\n",
       "      <td>No</td>\n",
       "      <td>No</td>\n",
       "      <td>Yes</td>\n",
       "      <td>No</td>\n",
       "      <td>No</td>\n",
       "      <td>No</td>\n",
       "      <td>No</td>\n",
       "      <td>Month-to-month</td>\n",
       "      <td>29.85</td>\n",
       "      <td>29.85</td>\n",
       "      <td>No</td>\n",
       "    </tr>\n",
       "    <tr>\n",
       "      <th>1</th>\n",
       "      <td>Male</td>\n",
       "      <td>0</td>\n",
       "      <td>No</td>\n",
       "      <td>No</td>\n",
       "      <td>34</td>\n",
       "      <td>Yes</td>\n",
       "      <td>Yes</td>\n",
       "      <td>No</td>\n",
       "      <td>Yes</td>\n",
       "      <td>No</td>\n",
       "      <td>No</td>\n",
       "      <td>No</td>\n",
       "      <td>One year</td>\n",
       "      <td>56.95</td>\n",
       "      <td>1889.5</td>\n",
       "      <td>No</td>\n",
       "    </tr>\n",
       "    <tr>\n",
       "      <th>2</th>\n",
       "      <td>Male</td>\n",
       "      <td>0</td>\n",
       "      <td>No</td>\n",
       "      <td>No</td>\n",
       "      <td>2</td>\n",
       "      <td>Yes</td>\n",
       "      <td>Yes</td>\n",
       "      <td>Yes</td>\n",
       "      <td>No</td>\n",
       "      <td>No</td>\n",
       "      <td>No</td>\n",
       "      <td>No</td>\n",
       "      <td>Month-to-month</td>\n",
       "      <td>53.85</td>\n",
       "      <td>108.15</td>\n",
       "      <td>Yes</td>\n",
       "    </tr>\n",
       "    <tr>\n",
       "      <th>3</th>\n",
       "      <td>Male</td>\n",
       "      <td>0</td>\n",
       "      <td>No</td>\n",
       "      <td>No</td>\n",
       "      <td>45</td>\n",
       "      <td>No</td>\n",
       "      <td>Yes</td>\n",
       "      <td>No</td>\n",
       "      <td>Yes</td>\n",
       "      <td>Yes</td>\n",
       "      <td>No</td>\n",
       "      <td>No</td>\n",
       "      <td>One year</td>\n",
       "      <td>42.30</td>\n",
       "      <td>1840.75</td>\n",
       "      <td>No</td>\n",
       "    </tr>\n",
       "    <tr>\n",
       "      <th>4</th>\n",
       "      <td>Female</td>\n",
       "      <td>0</td>\n",
       "      <td>No</td>\n",
       "      <td>No</td>\n",
       "      <td>2</td>\n",
       "      <td>Yes</td>\n",
       "      <td>No</td>\n",
       "      <td>No</td>\n",
       "      <td>No</td>\n",
       "      <td>No</td>\n",
       "      <td>No</td>\n",
       "      <td>No</td>\n",
       "      <td>Month-to-month</td>\n",
       "      <td>70.70</td>\n",
       "      <td>151.65</td>\n",
       "      <td>Yes</td>\n",
       "    </tr>\n",
       "    <tr>\n",
       "      <th>...</th>\n",
       "      <td>...</td>\n",
       "      <td>...</td>\n",
       "      <td>...</td>\n",
       "      <td>...</td>\n",
       "      <td>...</td>\n",
       "      <td>...</td>\n",
       "      <td>...</td>\n",
       "      <td>...</td>\n",
       "      <td>...</td>\n",
       "      <td>...</td>\n",
       "      <td>...</td>\n",
       "      <td>...</td>\n",
       "      <td>...</td>\n",
       "      <td>...</td>\n",
       "      <td>...</td>\n",
       "      <td>...</td>\n",
       "    </tr>\n",
       "    <tr>\n",
       "      <th>7038</th>\n",
       "      <td>Male</td>\n",
       "      <td>0</td>\n",
       "      <td>Yes</td>\n",
       "      <td>Yes</td>\n",
       "      <td>24</td>\n",
       "      <td>Yes</td>\n",
       "      <td>Yes</td>\n",
       "      <td>No</td>\n",
       "      <td>Yes</td>\n",
       "      <td>Yes</td>\n",
       "      <td>Yes</td>\n",
       "      <td>Yes</td>\n",
       "      <td>One year</td>\n",
       "      <td>84.80</td>\n",
       "      <td>1990.5</td>\n",
       "      <td>No</td>\n",
       "    </tr>\n",
       "    <tr>\n",
       "      <th>7039</th>\n",
       "      <td>Female</td>\n",
       "      <td>0</td>\n",
       "      <td>Yes</td>\n",
       "      <td>Yes</td>\n",
       "      <td>72</td>\n",
       "      <td>Yes</td>\n",
       "      <td>No</td>\n",
       "      <td>Yes</td>\n",
       "      <td>Yes</td>\n",
       "      <td>No</td>\n",
       "      <td>Yes</td>\n",
       "      <td>Yes</td>\n",
       "      <td>One year</td>\n",
       "      <td>103.20</td>\n",
       "      <td>7362.9</td>\n",
       "      <td>No</td>\n",
       "    </tr>\n",
       "    <tr>\n",
       "      <th>7040</th>\n",
       "      <td>Female</td>\n",
       "      <td>0</td>\n",
       "      <td>Yes</td>\n",
       "      <td>Yes</td>\n",
       "      <td>11</td>\n",
       "      <td>No</td>\n",
       "      <td>Yes</td>\n",
       "      <td>No</td>\n",
       "      <td>No</td>\n",
       "      <td>No</td>\n",
       "      <td>No</td>\n",
       "      <td>No</td>\n",
       "      <td>Month-to-month</td>\n",
       "      <td>29.60</td>\n",
       "      <td>346.45</td>\n",
       "      <td>No</td>\n",
       "    </tr>\n",
       "    <tr>\n",
       "      <th>7041</th>\n",
       "      <td>Male</td>\n",
       "      <td>1</td>\n",
       "      <td>Yes</td>\n",
       "      <td>No</td>\n",
       "      <td>4</td>\n",
       "      <td>Yes</td>\n",
       "      <td>No</td>\n",
       "      <td>No</td>\n",
       "      <td>No</td>\n",
       "      <td>No</td>\n",
       "      <td>No</td>\n",
       "      <td>No</td>\n",
       "      <td>Month-to-month</td>\n",
       "      <td>74.40</td>\n",
       "      <td>306.6</td>\n",
       "      <td>Yes</td>\n",
       "    </tr>\n",
       "    <tr>\n",
       "      <th>7042</th>\n",
       "      <td>Male</td>\n",
       "      <td>0</td>\n",
       "      <td>No</td>\n",
       "      <td>No</td>\n",
       "      <td>66</td>\n",
       "      <td>Yes</td>\n",
       "      <td>Yes</td>\n",
       "      <td>No</td>\n",
       "      <td>Yes</td>\n",
       "      <td>Yes</td>\n",
       "      <td>Yes</td>\n",
       "      <td>Yes</td>\n",
       "      <td>Two year</td>\n",
       "      <td>105.65</td>\n",
       "      <td>6844.5</td>\n",
       "      <td>No</td>\n",
       "    </tr>\n",
       "  </tbody>\n",
       "</table>\n",
       "<p>7043 rows × 16 columns</p>\n",
       "</div>"
      ],
      "text/plain": [
       "      gender  SeniorCitizen Partner Dependents  tenure PhoneService  \\\n",
       "0     Female              0     Yes         No       1           No   \n",
       "1       Male              0      No         No      34          Yes   \n",
       "2       Male              0      No         No       2          Yes   \n",
       "3       Male              0      No         No      45           No   \n",
       "4     Female              0      No         No       2          Yes   \n",
       "...      ...            ...     ...        ...     ...          ...   \n",
       "7038    Male              0     Yes        Yes      24          Yes   \n",
       "7039  Female              0     Yes        Yes      72          Yes   \n",
       "7040  Female              0     Yes        Yes      11           No   \n",
       "7041    Male              1     Yes         No       4          Yes   \n",
       "7042    Male              0      No         No      66          Yes   \n",
       "\n",
       "     OnlineSecurity OnlineBackup DeviceProtection TechSupport StreamingTV  \\\n",
       "0                No          Yes               No          No          No   \n",
       "1               Yes           No              Yes          No          No   \n",
       "2               Yes          Yes               No          No          No   \n",
       "3               Yes           No              Yes         Yes          No   \n",
       "4                No           No               No          No          No   \n",
       "...             ...          ...              ...         ...         ...   \n",
       "7038            Yes           No              Yes         Yes         Yes   \n",
       "7039             No          Yes              Yes          No         Yes   \n",
       "7040            Yes           No               No          No          No   \n",
       "7041             No           No               No          No          No   \n",
       "7042            Yes           No              Yes         Yes         Yes   \n",
       "\n",
       "     StreamingMovies        Contract  MonthlyCharges TotalCharges Churn  \n",
       "0                 No  Month-to-month           29.85        29.85    No  \n",
       "1                 No        One year           56.95       1889.5    No  \n",
       "2                 No  Month-to-month           53.85       108.15   Yes  \n",
       "3                 No        One year           42.30      1840.75    No  \n",
       "4                 No  Month-to-month           70.70       151.65   Yes  \n",
       "...              ...             ...             ...          ...   ...  \n",
       "7038             Yes        One year           84.80       1990.5    No  \n",
       "7039             Yes        One year          103.20       7362.9    No  \n",
       "7040              No  Month-to-month           29.60       346.45    No  \n",
       "7041              No  Month-to-month           74.40        306.6   Yes  \n",
       "7042             Yes        Two year          105.65       6844.5    No  \n",
       "\n",
       "[7043 rows x 16 columns]"
      ]
     },
     "execution_count": 197,
     "metadata": {},
     "output_type": "execute_result"
    }
   ],
   "source": [
    "#Import data\n",
    "churndata = pd.read_csv('files_for_lab/Customer-Churn.csv')#, header=None)\n",
    "churndata"
   ]
  },
  {
   "cell_type": "code",
   "execution_count": 198,
   "id": "b27f37e2",
   "metadata": {},
   "outputs": [
    {
     "name": "stdout",
     "output_type": "stream",
     "text": [
      "Data type of each column of Dataframe :\n",
      "gender               object\n",
      "SeniorCitizen         int64\n",
      "Partner              object\n",
      "Dependents           object\n",
      "tenure                int64\n",
      "PhoneService         object\n",
      "OnlineSecurity       object\n",
      "OnlineBackup         object\n",
      "DeviceProtection     object\n",
      "TechSupport          object\n",
      "StreamingTV          object\n",
      "StreamingMovies      object\n",
      "Contract             object\n",
      "MonthlyCharges      float64\n",
      "TotalCharges         object\n",
      "Churn                object\n",
      "dtype: object\n"
     ]
    }
   ],
   "source": [
    "#check data types in columns\n",
    "dataTypeSeries = churndata.dtypes\n",
    "print('Data type of each column of Dataframe :')\n",
    "print(dataTypeSeries)"
   ]
  },
  {
   "cell_type": "code",
   "execution_count": 199,
   "id": "0f8fcb51",
   "metadata": {},
   "outputs": [
    {
     "data": {
      "text/html": [
       "<div>\n",
       "<style scoped>\n",
       "    .dataframe tbody tr th:only-of-type {\n",
       "        vertical-align: middle;\n",
       "    }\n",
       "\n",
       "    .dataframe tbody tr th {\n",
       "        vertical-align: top;\n",
       "    }\n",
       "\n",
       "    .dataframe thead th {\n",
       "        text-align: right;\n",
       "    }\n",
       "</style>\n",
       "<table border=\"1\" class=\"dataframe\">\n",
       "  <thead>\n",
       "    <tr style=\"text-align: right;\">\n",
       "      <th></th>\n",
       "      <th>gender</th>\n",
       "      <th>seniorcitizen</th>\n",
       "      <th>partner</th>\n",
       "      <th>dependents</th>\n",
       "      <th>tenure</th>\n",
       "      <th>phoneservice</th>\n",
       "      <th>onlinesecurity</th>\n",
       "      <th>onlinebackup</th>\n",
       "      <th>deviceprotection</th>\n",
       "      <th>techsupport</th>\n",
       "      <th>streamingtv</th>\n",
       "      <th>streamingmovies</th>\n",
       "      <th>contract</th>\n",
       "      <th>monthlycharges</th>\n",
       "      <th>totalcharges</th>\n",
       "      <th>churn</th>\n",
       "    </tr>\n",
       "  </thead>\n",
       "  <tbody>\n",
       "    <tr>\n",
       "      <th>0</th>\n",
       "      <td>Female</td>\n",
       "      <td>0</td>\n",
       "      <td>Yes</td>\n",
       "      <td>No</td>\n",
       "      <td>1</td>\n",
       "      <td>No</td>\n",
       "      <td>No</td>\n",
       "      <td>Yes</td>\n",
       "      <td>No</td>\n",
       "      <td>No</td>\n",
       "      <td>No</td>\n",
       "      <td>No</td>\n",
       "      <td>Month-to-month</td>\n",
       "      <td>29.85</td>\n",
       "      <td>29.85</td>\n",
       "      <td>No</td>\n",
       "    </tr>\n",
       "    <tr>\n",
       "      <th>1</th>\n",
       "      <td>Male</td>\n",
       "      <td>0</td>\n",
       "      <td>No</td>\n",
       "      <td>No</td>\n",
       "      <td>34</td>\n",
       "      <td>Yes</td>\n",
       "      <td>Yes</td>\n",
       "      <td>No</td>\n",
       "      <td>Yes</td>\n",
       "      <td>No</td>\n",
       "      <td>No</td>\n",
       "      <td>No</td>\n",
       "      <td>One year</td>\n",
       "      <td>56.95</td>\n",
       "      <td>1889.5</td>\n",
       "      <td>No</td>\n",
       "    </tr>\n",
       "    <tr>\n",
       "      <th>2</th>\n",
       "      <td>Male</td>\n",
       "      <td>0</td>\n",
       "      <td>No</td>\n",
       "      <td>No</td>\n",
       "      <td>2</td>\n",
       "      <td>Yes</td>\n",
       "      <td>Yes</td>\n",
       "      <td>Yes</td>\n",
       "      <td>No</td>\n",
       "      <td>No</td>\n",
       "      <td>No</td>\n",
       "      <td>No</td>\n",
       "      <td>Month-to-month</td>\n",
       "      <td>53.85</td>\n",
       "      <td>108.15</td>\n",
       "      <td>Yes</td>\n",
       "    </tr>\n",
       "    <tr>\n",
       "      <th>3</th>\n",
       "      <td>Male</td>\n",
       "      <td>0</td>\n",
       "      <td>No</td>\n",
       "      <td>No</td>\n",
       "      <td>45</td>\n",
       "      <td>No</td>\n",
       "      <td>Yes</td>\n",
       "      <td>No</td>\n",
       "      <td>Yes</td>\n",
       "      <td>Yes</td>\n",
       "      <td>No</td>\n",
       "      <td>No</td>\n",
       "      <td>One year</td>\n",
       "      <td>42.30</td>\n",
       "      <td>1840.75</td>\n",
       "      <td>No</td>\n",
       "    </tr>\n",
       "    <tr>\n",
       "      <th>4</th>\n",
       "      <td>Female</td>\n",
       "      <td>0</td>\n",
       "      <td>No</td>\n",
       "      <td>No</td>\n",
       "      <td>2</td>\n",
       "      <td>Yes</td>\n",
       "      <td>No</td>\n",
       "      <td>No</td>\n",
       "      <td>No</td>\n",
       "      <td>No</td>\n",
       "      <td>No</td>\n",
       "      <td>No</td>\n",
       "      <td>Month-to-month</td>\n",
       "      <td>70.70</td>\n",
       "      <td>151.65</td>\n",
       "      <td>Yes</td>\n",
       "    </tr>\n",
       "  </tbody>\n",
       "</table>\n",
       "</div>"
      ],
      "text/plain": [
       "   gender  seniorcitizen partner dependents  tenure phoneservice  \\\n",
       "0  Female              0     Yes         No       1           No   \n",
       "1    Male              0      No         No      34          Yes   \n",
       "2    Male              0      No         No       2          Yes   \n",
       "3    Male              0      No         No      45           No   \n",
       "4  Female              0      No         No       2          Yes   \n",
       "\n",
       "  onlinesecurity onlinebackup deviceprotection techsupport streamingtv  \\\n",
       "0             No          Yes               No          No          No   \n",
       "1            Yes           No              Yes          No          No   \n",
       "2            Yes          Yes               No          No          No   \n",
       "3            Yes           No              Yes         Yes          No   \n",
       "4             No           No               No          No          No   \n",
       "\n",
       "  streamingmovies        contract  monthlycharges totalcharges churn  \n",
       "0              No  Month-to-month           29.85        29.85    No  \n",
       "1              No        One year           56.95       1889.5    No  \n",
       "2              No  Month-to-month           53.85       108.15   Yes  \n",
       "3              No        One year           42.30      1840.75    No  \n",
       "4              No  Month-to-month           70.70       151.65   Yes  "
      ]
     },
     "execution_count": 199,
     "metadata": {},
     "output_type": "execute_result"
    }
   ],
   "source": [
    "#Rename Column Headers to avoid errors \n",
    "churndata.columns = [column.lower().replace(' ','_') for column in churndata.columns]\n",
    "churndata.head()"
   ]
  },
  {
   "cell_type": "code",
   "execution_count": 200,
   "id": "cc986bb3",
   "metadata": {},
   "outputs": [
    {
     "ename": "ValueError",
     "evalue": "Unable to parse string \" \" at position 488",
     "output_type": "error",
     "traceback": [
      "\u001b[1;31m---------------------------------------------------------------------------\u001b[0m",
      "\u001b[1;31mValueError\u001b[0m                                Traceback (most recent call last)",
      "\u001b[1;32mpandas\\_libs\\lib.pyx\u001b[0m in \u001b[0;36mpandas._libs.lib.maybe_convert_numeric\u001b[1;34m()\u001b[0m\n",
      "\u001b[1;31mValueError\u001b[0m: Unable to parse string \" \"",
      "\nDuring handling of the above exception, another exception occurred:\n",
      "\u001b[1;31mValueError\u001b[0m                                Traceback (most recent call last)",
      "\u001b[1;32m<ipython-input-200-79e526437182>\u001b[0m in \u001b[0;36m<module>\u001b[1;34m\u001b[0m\n\u001b[0;32m      1\u001b[0m \u001b[1;31m#Convert total charges to numerical\u001b[0m\u001b[1;33m\u001b[0m\u001b[1;33m\u001b[0m\u001b[1;33m\u001b[0m\u001b[0m\n\u001b[1;32m----> 2\u001b[1;33m \u001b[0mchurndata\u001b[0m\u001b[1;33m[\u001b[0m\u001b[1;34m'totalcharges'\u001b[0m\u001b[1;33m]\u001b[0m \u001b[1;33m=\u001b[0m \u001b[0mpd\u001b[0m\u001b[1;33m.\u001b[0m\u001b[0mto_numeric\u001b[0m\u001b[1;33m(\u001b[0m\u001b[0mchurndata\u001b[0m\u001b[1;33m[\u001b[0m\u001b[1;34m'totalcharges'\u001b[0m\u001b[1;33m]\u001b[0m\u001b[1;33m)\u001b[0m\u001b[1;33m\u001b[0m\u001b[1;33m\u001b[0m\u001b[0m\n\u001b[0m",
      "\u001b[1;32mc:\\users\\anton\\appdata\\local\\programs\\python\\python39\\lib\\site-packages\\pandas\\core\\tools\\numeric.py\u001b[0m in \u001b[0;36mto_numeric\u001b[1;34m(arg, errors, downcast)\u001b[0m\n\u001b[0;32m    152\u001b[0m         \u001b[0mcoerce_numeric\u001b[0m \u001b[1;33m=\u001b[0m \u001b[0merrors\u001b[0m \u001b[1;32mnot\u001b[0m \u001b[1;32min\u001b[0m \u001b[1;33m(\u001b[0m\u001b[1;34m\"ignore\"\u001b[0m\u001b[1;33m,\u001b[0m \u001b[1;34m\"raise\"\u001b[0m\u001b[1;33m)\u001b[0m\u001b[1;33m\u001b[0m\u001b[1;33m\u001b[0m\u001b[0m\n\u001b[0;32m    153\u001b[0m         \u001b[1;32mtry\u001b[0m\u001b[1;33m:\u001b[0m\u001b[1;33m\u001b[0m\u001b[1;33m\u001b[0m\u001b[0m\n\u001b[1;32m--> 154\u001b[1;33m             values = lib.maybe_convert_numeric(\n\u001b[0m\u001b[0;32m    155\u001b[0m                 \u001b[0mvalues\u001b[0m\u001b[1;33m,\u001b[0m \u001b[0mset\u001b[0m\u001b[1;33m(\u001b[0m\u001b[1;33m)\u001b[0m\u001b[1;33m,\u001b[0m \u001b[0mcoerce_numeric\u001b[0m\u001b[1;33m=\u001b[0m\u001b[0mcoerce_numeric\u001b[0m\u001b[1;33m\u001b[0m\u001b[1;33m\u001b[0m\u001b[0m\n\u001b[0;32m    156\u001b[0m             )\n",
      "\u001b[1;32mpandas\\_libs\\lib.pyx\u001b[0m in \u001b[0;36mpandas._libs.lib.maybe_convert_numeric\u001b[1;34m()\u001b[0m\n",
      "\u001b[1;31mValueError\u001b[0m: Unable to parse string \" \" at position 488"
     ]
    }
   ],
   "source": [
    "#Convert total charges to numerical\n",
    "churndata['totalcharges'] = pd.to_numeric(churndata['totalcharges'])"
   ]
  },
  {
   "cell_type": "code",
   "execution_count": 201,
   "id": "b5d029a1",
   "metadata": {},
   "outputs": [
    {
     "data": {
      "text/plain": [
       "' '"
      ]
     },
     "execution_count": 201,
     "metadata": {},
     "output_type": "execute_result"
    }
   ],
   "source": [
    "#Check error at position 488\n",
    "churndata['totalcharges'][488]\n",
    "#cannot convert ' ' to number"
   ]
  },
  {
   "cell_type": "code",
   "execution_count": 202,
   "id": "28be071c",
   "metadata": {},
   "outputs": [],
   "source": [
    "#fill rows with spaces with null to be able to convert to column to number\n",
    "for churndata.rows in churndata['totalcharges']:\n",
    "        churndata['totalcharges'] = churndata['totalcharges'].str.replace(' ','0')"
   ]
  },
  {
   "cell_type": "code",
   "execution_count": 203,
   "id": "e9be83b3",
   "metadata": {},
   "outputs": [
    {
     "data": {
      "text/plain": [
       "'0'"
      ]
     },
     "execution_count": 203,
     "metadata": {},
     "output_type": "execute_result"
    }
   ],
   "source": [
    "#Check again at position 488\n",
    "churndata['totalcharges'][488]"
   ]
  },
  {
   "cell_type": "code",
   "execution_count": 204,
   "id": "cda9ca55",
   "metadata": {},
   "outputs": [
    {
     "data": {
      "text/plain": [
       "gender              11\n",
       "seniorcitizen       11\n",
       "partner             11\n",
       "dependents          11\n",
       "tenure              11\n",
       "phoneservice        11\n",
       "onlinesecurity      11\n",
       "onlinebackup        11\n",
       "deviceprotection    11\n",
       "techsupport         11\n",
       "streamingtv         11\n",
       "streamingmovies     11\n",
       "contract            11\n",
       "monthlycharges      11\n",
       "totalcharges        11\n",
       "churn               11\n",
       "dtype: int64"
      ]
     },
     "execution_count": 204,
     "metadata": {},
     "output_type": "execute_result"
    }
   ],
   "source": [
    "churndata.loc[churndata.totalcharges == '0'].count()"
   ]
  },
  {
   "cell_type": "code",
   "execution_count": 205,
   "id": "95b8a75b",
   "metadata": {},
   "outputs": [],
   "source": [
    "#try to resume where we left off before:\n",
    "#Convert total charges to numerical\n",
    "churndata['totalcharges'] = pd.to_numeric(churndata['totalcharges'])\n",
    "\n",
    "#Worked!!"
   ]
  },
  {
   "cell_type": "code",
   "execution_count": 206,
   "id": "d2ef19ba",
   "metadata": {},
   "outputs": [
    {
     "data": {
      "text/plain": [
       "gender              0\n",
       "seniorcitizen       0\n",
       "partner             0\n",
       "dependents          0\n",
       "tenure              0\n",
       "phoneservice        0\n",
       "onlinesecurity      0\n",
       "onlinebackup        0\n",
       "deviceprotection    0\n",
       "techsupport         0\n",
       "streamingtv         0\n",
       "streamingmovies     0\n",
       "contract            0\n",
       "monthlycharges      0\n",
       "totalcharges        0\n",
       "churn               0\n",
       "dtype: int64"
      ]
     },
     "execution_count": 206,
     "metadata": {},
     "output_type": "execute_result"
    }
   ],
   "source": [
    "#Check for null values in df \n",
    "churndata.isna().sum()\n",
    "#No null values"
   ]
  },
  {
   "cell_type": "code",
   "execution_count": 207,
   "id": "dcdca905",
   "metadata": {},
   "outputs": [],
   "source": [
    "#try to avoid error following in scaling data. fill rows with spaces/previous '0' with mean \n",
    "churndata['totalcharges'] = churndata['totalcharges'].fillna(churndata['totalcharges'].mean())"
   ]
  },
  {
   "cell_type": "code",
   "execution_count": 208,
   "id": "43d052ac",
   "metadata": {},
   "outputs": [
    {
     "data": {
      "text/plain": [
       "gender              0\n",
       "seniorcitizen       0\n",
       "partner             0\n",
       "dependents          0\n",
       "tenure              0\n",
       "phoneservice        0\n",
       "onlinesecurity      0\n",
       "onlinebackup        0\n",
       "deviceprotection    0\n",
       "techsupport         0\n",
       "streamingtv         0\n",
       "streamingmovies     0\n",
       "contract            0\n",
       "monthlycharges      0\n",
       "totalcharges        0\n",
       "churn               0\n",
       "dtype: int64"
      ]
     },
     "execution_count": 208,
     "metadata": {},
     "output_type": "execute_result"
    }
   ],
   "source": [
    "churndata.loc[churndata.totalcharges == '0'].count()"
   ]
  },
  {
   "cell_type": "markdown",
   "id": "b28d3b13",
   "metadata": {},
   "source": [
    "# Prepare Data for Model"
   ]
  },
  {
   "cell_type": "markdown",
   "id": "71e5775f",
   "metadata": {},
   "source": [
    "Use the following features: tenure, SeniorCitizen, MonthlyCharges and TotalCharges:\n",
    "Scale the features either by using normalizer or a standard scaler.\n",
    "Split the data into a training set and a test set.\n",
    "Fit a logistic regression model on the training data.\n",
    "Check the accuracy on the test data."
   ]
  },
  {
   "cell_type": "code",
   "execution_count": 209,
   "id": "a463d825",
   "metadata": {},
   "outputs": [],
   "source": [
    "#columns for new df churndata_new\n",
    "X = churndata[['tenure', 'seniorcitizen', 'monthlycharges', 'totalcharges']]\n",
    "y = churndata['churn']"
   ]
  },
  {
   "cell_type": "code",
   "execution_count": 210,
   "id": "91e581f4",
   "metadata": {},
   "outputs": [],
   "source": [
    "#train test split\n",
    "from sklearn.model_selection import train_test_split\n",
    "\n",
    "X_train, X_test, y_train, y_test = train_test_split(X, y, test_size=0.20, random_state=18)\n"
   ]
  },
  {
   "cell_type": "code",
   "execution_count": 211,
   "id": "b23ee2ae",
   "metadata": {},
   "outputs": [],
   "source": [
    "#Scale features with standarscaler\n",
    "transformer = StandardScaler()\n",
    "\n",
    "X_train = transformer.fit_transform(X_train)\n",
    "X_test = transformer.transform(X_test)"
   ]
  },
  {
   "cell_type": "code",
   "execution_count": 212,
   "id": "c1a3d2fe",
   "metadata": {},
   "outputs": [],
   "source": [
    "#convert to df\n",
    "X_train = pd.DataFrame(X_train)\n",
    "X_test = pd.DataFrame(X_test)"
   ]
  },
  {
   "cell_type": "markdown",
   "id": "d9120f98",
   "metadata": {},
   "source": [
    "# Run Logistic Regression Model without correcting Data Imbalance"
   ]
  },
  {
   "cell_type": "code",
   "execution_count": 213,
   "id": "74378d2a",
   "metadata": {},
   "outputs": [],
   "source": [
    "def classification_model(X_train, y_train, X_test, y_test, w):\n",
    "    classification = LogisticRegression(random_state=12, max_iter=100, class_weight=w) \n",
    "    classification.fit(X_train, y_train)\n",
    "    \n",
    "    score_class = classification.score(X_test, y_test)\n",
    "    \n",
    "    predictions = classification.predict(X_test)\n",
    "    value_cnt_class = pd.Series(predictions).value_counts()\n",
    "    \n",
    "    print('The accuracyscore is: ', score_class, '\\n')\n",
    "    print('Value counts of the model predictions: ', '\\n', value_cnt_class)"
   ]
  },
  {
   "cell_type": "code",
   "execution_count": 214,
   "id": "d8c61720",
   "metadata": {},
   "outputs": [],
   "source": [
    "def metrics_classification(X_train, y_train, X_test, y_test, w):\n",
    "    \n",
    "    classification = LogisticRegression(random_state=42, max_iter=500, class_weight=w) \n",
    "    classification.fit(X_train, y_train)\n",
    "    \n",
    "    predictions = classification.predict(X_test)\n",
    "    \n",
    "    #confusion matrix\n",
    "    cf_matrix = confusion_matrix(y_test, predictions)\n",
    "    group_names = ['True A', 'False A',\n",
    "                   'False B', 'True B']\n",
    "\n",
    "    group_counts = [\"{0:0.0f}\".format(value) for value in cf_matrix.flatten()]\n",
    "    group_percentages = [\"{0:.2%}\".format(value) for value in cf_matrix.flatten()/np.sum(cf_matrix)]\n",
    "    labels = [f\"{v1}\\n{v2}\\n{v3}\" for v1, v2, v3 in zip(group_names,group_counts,group_percentages)]\n",
    "    labels = np.asarray(labels).reshape(2,2)\n",
    "    \n",
    "    \n",
    "    #classification report\n",
    "    metrics_class = metrics.classification_report(y_test, predictions)\n",
    "    print('Classification report:', '\\n')\n",
    "    print(metrics_class)\n",
    "    \n",
    "    \n",
    "    print('Confusion matrix:')\n",
    "    sns.heatmap(cf_matrix, annot=labels, fmt='', cmap='Blues')"
   ]
  },
  {
   "cell_type": "code",
   "execution_count": 215,
   "id": "6897992a",
   "metadata": {},
   "outputs": [
    {
     "name": "stdout",
     "output_type": "stream",
     "text": [
      "The accuracyscore is:  0.8076650106458482 \n",
      "\n",
      "Value counts of the model predictions:  \n",
      " No     1143\n",
      "Yes     266\n",
      "dtype: int64\n"
     ]
    }
   ],
   "source": [
    "classification_model(X_train, y_train, X_test, y_test, w=None)"
   ]
  },
  {
   "cell_type": "code",
   "execution_count": 216,
   "id": "1698403a",
   "metadata": {},
   "outputs": [
    {
     "name": "stdout",
     "output_type": "stream",
     "text": [
      "Classification report: \n",
      "\n",
      "              precision    recall  f1-score   support\n",
      "\n",
      "          No       0.84      0.91      0.88      1058\n",
      "         Yes       0.65      0.49      0.56       351\n",
      "\n",
      "    accuracy                           0.81      1409\n",
      "   macro avg       0.75      0.70      0.72      1409\n",
      "weighted avg       0.80      0.81      0.80      1409\n",
      "\n",
      "Confusion matrix:\n"
     ]
    },
    {
     "data": {
      "image/png": "[encoded data removed]",
      "text/plain": [
       "<Figure size 432x288 with 2 Axes>"
      ]
     },
     "metadata": {
      "needs_background": "light"
     },
     "output_type": "display_data"
    }
   ],
   "source": [
    "metrics_classification(X_train, y_train, X_test, y_test, w=None)"
   ]
  },
  {
   "cell_type": "markdown",
   "id": "0ab0be37",
   "metadata": {},
   "source": [
    "# Deal with imbalance"
   ]
  },
  {
   "cell_type": "code",
   "execution_count": 217,
   "id": "5d30f7ef",
   "metadata": {},
   "outputs": [
    {
     "data": {
      "text/plain": [
       "No     5174\n",
       "Yes    1869\n",
       "Name: churn, dtype: int64"
      ]
     },
     "execution_count": 217,
     "metadata": {},
     "output_type": "execute_result"
    }
   ],
   "source": [
    "#check imbalance in target column\n",
    "churndata['churn'].value_counts()"
   ]
  },
  {
   "cell_type": "markdown",
   "id": "195b3c61",
   "metadata": {},
   "source": [
    "-> huge imbalance."
   ]
  },
  {
   "cell_type": "markdown",
   "id": "5c9727a0",
   "metadata": {},
   "source": [
    "## Downsampling"
   ]
  },
  {
   "cell_type": "markdown",
   "id": "94ff5399",
   "metadata": {},
   "source": [
    "In downsampling, we randomly sample without replacement from the majority class"
   ]
  },
  {
   "cell_type": "code",
   "execution_count": 218,
   "id": "87da228e",
   "metadata": {},
   "outputs": [
    {
     "data": {
      "text/plain": [
       "5658     No\n",
       "783     Yes\n",
       "1836    Yes\n",
       "545      No\n",
       "3609     No\n",
       "Name: churn, dtype: object"
      ]
     },
     "execution_count": 218,
     "metadata": {},
     "output_type": "execute_result"
    }
   ],
   "source": [
    "#check y_train\n",
    "y_train.head()"
   ]
  },
  {
   "cell_type": "code",
   "execution_count": 219,
   "id": "6e02025a",
   "metadata": {},
   "outputs": [
    {
     "data": {
      "text/html": [
       "<div>\n",
       "<style scoped>\n",
       "    .dataframe tbody tr th:only-of-type {\n",
       "        vertical-align: middle;\n",
       "    }\n",
       "\n",
       "    .dataframe tbody tr th {\n",
       "        vertical-align: top;\n",
       "    }\n",
       "\n",
       "    .dataframe thead th {\n",
       "        text-align: right;\n",
       "    }\n",
       "</style>\n",
       "<table border=\"1\" class=\"dataframe\">\n",
       "  <thead>\n",
       "    <tr style=\"text-align: right;\">\n",
       "      <th></th>\n",
       "      <th>churn</th>\n",
       "    </tr>\n",
       "  </thead>\n",
       "  <tbody>\n",
       "    <tr>\n",
       "      <th>0</th>\n",
       "      <td>No</td>\n",
       "    </tr>\n",
       "    <tr>\n",
       "      <th>1</th>\n",
       "      <td>Yes</td>\n",
       "    </tr>\n",
       "    <tr>\n",
       "      <th>2</th>\n",
       "      <td>Yes</td>\n",
       "    </tr>\n",
       "    <tr>\n",
       "      <th>3</th>\n",
       "      <td>No</td>\n",
       "    </tr>\n",
       "    <tr>\n",
       "      <th>4</th>\n",
       "      <td>No</td>\n",
       "    </tr>\n",
       "    <tr>\n",
       "      <th>...</th>\n",
       "      <td>...</td>\n",
       "    </tr>\n",
       "    <tr>\n",
       "      <th>5629</th>\n",
       "      <td>No</td>\n",
       "    </tr>\n",
       "    <tr>\n",
       "      <th>5630</th>\n",
       "      <td>No</td>\n",
       "    </tr>\n",
       "    <tr>\n",
       "      <th>5631</th>\n",
       "      <td>Yes</td>\n",
       "    </tr>\n",
       "    <tr>\n",
       "      <th>5632</th>\n",
       "      <td>No</td>\n",
       "    </tr>\n",
       "    <tr>\n",
       "      <th>5633</th>\n",
       "      <td>No</td>\n",
       "    </tr>\n",
       "  </tbody>\n",
       "</table>\n",
       "<p>5634 rows × 1 columns</p>\n",
       "</div>"
      ],
      "text/plain": [
       "     churn\n",
       "0       No\n",
       "1      Yes\n",
       "2      Yes\n",
       "3       No\n",
       "4       No\n",
       "...    ...\n",
       "5629    No\n",
       "5630    No\n",
       "5631   Yes\n",
       "5632    No\n",
       "5633    No\n",
       "\n",
       "[5634 rows x 1 columns]"
      ]
     },
     "execution_count": 219,
     "metadata": {},
     "output_type": "execute_result"
    }
   ],
   "source": [
    "y_train = pd.DataFrame(y_train).reset_index()\n",
    "y_train = y_train.drop('index', axis=1)\n",
    "y_train"
   ]
  },
  {
   "cell_type": "code",
   "execution_count": 220,
   "id": "8a2cfe22",
   "metadata": {},
   "outputs": [
    {
     "data": {
      "text/html": [
       "<div>\n",
       "<style scoped>\n",
       "    .dataframe tbody tr th:only-of-type {\n",
       "        vertical-align: middle;\n",
       "    }\n",
       "\n",
       "    .dataframe tbody tr th {\n",
       "        vertical-align: top;\n",
       "    }\n",
       "\n",
       "    .dataframe thead th {\n",
       "        text-align: right;\n",
       "    }\n",
       "</style>\n",
       "<table border=\"1\" class=\"dataframe\">\n",
       "  <thead>\n",
       "    <tr style=\"text-align: right;\">\n",
       "      <th></th>\n",
       "      <th>0</th>\n",
       "      <th>1</th>\n",
       "      <th>2</th>\n",
       "      <th>3</th>\n",
       "      <th>churn</th>\n",
       "    </tr>\n",
       "  </thead>\n",
       "  <tbody>\n",
       "    <tr>\n",
       "      <th>0</th>\n",
       "      <td>-0.334388</td>\n",
       "      <td>-0.432556</td>\n",
       "      <td>0.929907</td>\n",
       "      <td>-0.016113</td>\n",
       "      <td>No</td>\n",
       "    </tr>\n",
       "    <tr>\n",
       "      <th>1</th>\n",
       "      <td>-1.271005</td>\n",
       "      <td>-0.432556</td>\n",
       "      <td>-0.425956</td>\n",
       "      <td>-0.980816</td>\n",
       "      <td>Yes</td>\n",
       "    </tr>\n",
       "    <tr>\n",
       "      <th>2</th>\n",
       "      <td>-0.334388</td>\n",
       "      <td>-0.432556</td>\n",
       "      <td>1.029603</td>\n",
       "      <td>-0.071293</td>\n",
       "      <td>Yes</td>\n",
       "    </tr>\n",
       "    <tr>\n",
       "      <th>3</th>\n",
       "      <td>0.072836</td>\n",
       "      <td>-0.432556</td>\n",
       "      <td>0.462999</td>\n",
       "      <td>0.159246</td>\n",
       "      <td>No</td>\n",
       "    </tr>\n",
       "    <tr>\n",
       "      <th>4</th>\n",
       "      <td>1.172343</td>\n",
       "      <td>-0.432556</td>\n",
       "      <td>1.293797</td>\n",
       "      <td>1.818069</td>\n",
       "      <td>No</td>\n",
       "    </tr>\n",
       "    <tr>\n",
       "      <th>...</th>\n",
       "      <td>...</td>\n",
       "      <td>...</td>\n",
       "      <td>...</td>\n",
       "      <td>...</td>\n",
       "      <td>...</td>\n",
       "    </tr>\n",
       "    <tr>\n",
       "      <th>5629</th>\n",
       "      <td>-0.090053</td>\n",
       "      <td>-0.432556</td>\n",
       "      <td>-0.502389</td>\n",
       "      <td>-0.370257</td>\n",
       "      <td>No</td>\n",
       "    </tr>\n",
       "    <tr>\n",
       "      <th>5630</th>\n",
       "      <td>1.416677</td>\n",
       "      <td>2.311838</td>\n",
       "      <td>1.697565</td>\n",
       "      <td>2.440534</td>\n",
       "      <td>No</td>\n",
       "    </tr>\n",
       "    <tr>\n",
       "      <th>5631</th>\n",
       "      <td>-1.271005</td>\n",
       "      <td>-0.432556</td>\n",
       "      <td>-0.979267</td>\n",
       "      <td>-0.988131</td>\n",
       "      <td>Yes</td>\n",
       "    </tr>\n",
       "    <tr>\n",
       "      <th>5632</th>\n",
       "      <td>-0.782335</td>\n",
       "      <td>-0.432556</td>\n",
       "      <td>-1.346480</td>\n",
       "      <td>-0.852795</td>\n",
       "      <td>No</td>\n",
       "    </tr>\n",
       "    <tr>\n",
       "      <th>5633</th>\n",
       "      <td>0.846563</td>\n",
       "      <td>-0.432556</td>\n",
       "      <td>-0.542267</td>\n",
       "      <td>0.092467</td>\n",
       "      <td>No</td>\n",
       "    </tr>\n",
       "  </tbody>\n",
       "</table>\n",
       "<p>5634 rows × 5 columns</p>\n",
       "</div>"
      ],
      "text/plain": [
       "             0         1         2         3 churn\n",
       "0    -0.334388 -0.432556  0.929907 -0.016113    No\n",
       "1    -1.271005 -0.432556 -0.425956 -0.980816   Yes\n",
       "2    -0.334388 -0.432556  1.029603 -0.071293   Yes\n",
       "3     0.072836 -0.432556  0.462999  0.159246    No\n",
       "4     1.172343 -0.432556  1.293797  1.818069    No\n",
       "...        ...       ...       ...       ...   ...\n",
       "5629 -0.090053 -0.432556 -0.502389 -0.370257    No\n",
       "5630  1.416677  2.311838  1.697565  2.440534    No\n",
       "5631 -1.271005 -0.432556 -0.979267 -0.988131   Yes\n",
       "5632 -0.782335 -0.432556 -1.346480 -0.852795    No\n",
       "5633  0.846563 -0.432556 -0.542267  0.092467    No\n",
       "\n",
       "[5634 rows x 5 columns]"
      ]
     },
     "execution_count": 220,
     "metadata": {},
     "output_type": "execute_result"
    }
   ],
   "source": [
    "#concat training data\n",
    "data_downs = pd.concat([X_train, y_train], axis=1)\n",
    "data_downs"
   ]
  },
  {
   "cell_type": "code",
   "execution_count": 221,
   "id": "ee98c5ea",
   "metadata": {},
   "outputs": [
    {
     "name": "stdout",
     "output_type": "stream",
     "text": [
      "(1518, 5)\n",
      "(4116, 5)\n"
     ]
    }
   ],
   "source": [
    "A = data_downs[data_downs['churn'] == 'Yes'] \n",
    "B = data_downs[data_downs['churn'] == 'No']\n",
    "print(A.shape)\n",
    "print(B.shape)"
   ]
  },
  {
   "cell_type": "code",
   "execution_count": 222,
   "id": "afa13a99",
   "metadata": {},
   "outputs": [],
   "source": [
    "B = B.sample(len(A))"
   ]
  },
  {
   "cell_type": "code",
   "execution_count": 223,
   "id": "86d548d7",
   "metadata": {},
   "outputs": [
    {
     "data": {
      "text/plain": [
       "No     1518\n",
       "Yes    1518\n",
       "Name: churn, dtype: int64"
      ]
     },
     "execution_count": 223,
     "metadata": {},
     "output_type": "execute_result"
    }
   ],
   "source": [
    "churn_downsampled = pd.concat([A, B], axis=0)\n",
    "#shuffling the data\n",
    "churn_downsampled = churn_downsampled.sample(frac=1)\n",
    "churn_downsampled['churn'].value_counts()"
   ]
  },
  {
   "cell_type": "code",
   "execution_count": 224,
   "id": "540fb65a",
   "metadata": {},
   "outputs": [],
   "source": [
    "#split x,y again\n",
    "X_train_downs = churn_downsampled.drop(['churn'], axis=1)\n",
    "y_train_downs = churn_downsampled['churn']"
   ]
  },
  {
   "cell_type": "code",
   "execution_count": 225,
   "id": "25820c78",
   "metadata": {},
   "outputs": [
    {
     "name": "stdout",
     "output_type": "stream",
     "text": [
      "The accuracyscore is:  0.7423704755145494 \n",
      "\n",
      "Value counts of the model predictions:  \n",
      " No     851\n",
      "Yes    558\n",
      "dtype: int64\n"
     ]
    }
   ],
   "source": [
    "#run model\n",
    "classification_model(X_train_downs, y_train_downs, X_test, y_test, w=None)"
   ]
  },
  {
   "cell_type": "code",
   "execution_count": 226,
   "id": "86ee8042",
   "metadata": {},
   "outputs": [
    {
     "name": "stdout",
     "output_type": "stream",
     "text": [
      "Classification report: \n",
      "\n",
      "              precision    recall  f1-score   support\n",
      "\n",
      "          No       0.91      0.73      0.81      1058\n",
      "         Yes       0.49      0.78      0.60       351\n",
      "\n",
      "    accuracy                           0.74      1409\n",
      "   macro avg       0.70      0.75      0.71      1409\n",
      "weighted avg       0.80      0.74      0.76      1409\n",
      "\n",
      "Confusion matrix:\n"
     ]
    },
    {
     "data": {
      "image/png": "[encoded data removed]",
      "text/plain": [
       "<Figure size 432x288 with 2 Axes>"
      ]
     },
     "metadata": {
      "needs_background": "light"
     },
     "output_type": "display_data"
    }
   ],
   "source": [
    "metrics_classification(X_train_downs, y_train_downs, X_test, y_test, w=None)"
   ]
  },
  {
   "cell_type": "markdown",
   "id": "22353758",
   "metadata": {},
   "source": [
    "##### Other option would be: Downsampling to specific amount of rows/samples"
   ]
  },
  {
   "cell_type": "code",
   "execution_count": 228,
   "id": "852fe6a7",
   "metadata": {},
   "outputs": [
    {
     "data": {
      "text/plain": [
       "(600, 5)"
      ]
     },
     "execution_count": 228,
     "metadata": {},
     "output_type": "execute_result"
    }
   ],
   "source": [
    "#downsample to specific amount of rows/samples\n",
    "A1 = data_downs[data_downs['churn'] == 'Yes'].sample(300) \n",
    "B1 = data_downs[data_downs['churn'] == 'No'].sample(300, replace=True)\n",
    "\n",
    "\n",
    "churn_downsampled1 = pd.concat([A1, B1]).sample(frac=1) # .sample(frac=1)\n",
    "churn_downsampled1.shape"
   ]
  },
  {
   "cell_type": "markdown",
   "id": "3d5f3b21",
   "metadata": {},
   "source": [
    "## Upsampling Method 1"
   ]
  },
  {
   "cell_type": "code",
   "execution_count": 229,
   "id": "79d5809d",
   "metadata": {},
   "outputs": [
    {
     "data": {
      "text/html": [
       "<div>\n",
       "<style scoped>\n",
       "    .dataframe tbody tr th:only-of-type {\n",
       "        vertical-align: middle;\n",
       "    }\n",
       "\n",
       "    .dataframe tbody tr th {\n",
       "        vertical-align: top;\n",
       "    }\n",
       "\n",
       "    .dataframe thead th {\n",
       "        text-align: right;\n",
       "    }\n",
       "</style>\n",
       "<table border=\"1\" class=\"dataframe\">\n",
       "  <thead>\n",
       "    <tr style=\"text-align: right;\">\n",
       "      <th></th>\n",
       "      <th>0</th>\n",
       "      <th>1</th>\n",
       "      <th>2</th>\n",
       "      <th>3</th>\n",
       "      <th>churn</th>\n",
       "    </tr>\n",
       "  </thead>\n",
       "  <tbody>\n",
       "    <tr>\n",
       "      <th>0</th>\n",
       "      <td>-0.334388</td>\n",
       "      <td>-0.432556</td>\n",
       "      <td>0.929907</td>\n",
       "      <td>-0.016113</td>\n",
       "      <td>No</td>\n",
       "    </tr>\n",
       "    <tr>\n",
       "      <th>1</th>\n",
       "      <td>-1.271005</td>\n",
       "      <td>-0.432556</td>\n",
       "      <td>-0.425956</td>\n",
       "      <td>-0.980816</td>\n",
       "      <td>Yes</td>\n",
       "    </tr>\n",
       "    <tr>\n",
       "      <th>2</th>\n",
       "      <td>-0.334388</td>\n",
       "      <td>-0.432556</td>\n",
       "      <td>1.029603</td>\n",
       "      <td>-0.071293</td>\n",
       "      <td>Yes</td>\n",
       "    </tr>\n",
       "    <tr>\n",
       "      <th>3</th>\n",
       "      <td>0.072836</td>\n",
       "      <td>-0.432556</td>\n",
       "      <td>0.462999</td>\n",
       "      <td>0.159246</td>\n",
       "      <td>No</td>\n",
       "    </tr>\n",
       "    <tr>\n",
       "      <th>4</th>\n",
       "      <td>1.172343</td>\n",
       "      <td>-0.432556</td>\n",
       "      <td>1.293797</td>\n",
       "      <td>1.818069</td>\n",
       "      <td>No</td>\n",
       "    </tr>\n",
       "    <tr>\n",
       "      <th>...</th>\n",
       "      <td>...</td>\n",
       "      <td>...</td>\n",
       "      <td>...</td>\n",
       "      <td>...</td>\n",
       "      <td>...</td>\n",
       "    </tr>\n",
       "    <tr>\n",
       "      <th>5629</th>\n",
       "      <td>-0.090053</td>\n",
       "      <td>-0.432556</td>\n",
       "      <td>-0.502389</td>\n",
       "      <td>-0.370257</td>\n",
       "      <td>No</td>\n",
       "    </tr>\n",
       "    <tr>\n",
       "      <th>5630</th>\n",
       "      <td>1.416677</td>\n",
       "      <td>2.311838</td>\n",
       "      <td>1.697565</td>\n",
       "      <td>2.440534</td>\n",
       "      <td>No</td>\n",
       "    </tr>\n",
       "    <tr>\n",
       "      <th>5631</th>\n",
       "      <td>-1.271005</td>\n",
       "      <td>-0.432556</td>\n",
       "      <td>-0.979267</td>\n",
       "      <td>-0.988131</td>\n",
       "      <td>Yes</td>\n",
       "    </tr>\n",
       "    <tr>\n",
       "      <th>5632</th>\n",
       "      <td>-0.782335</td>\n",
       "      <td>-0.432556</td>\n",
       "      <td>-1.346480</td>\n",
       "      <td>-0.852795</td>\n",
       "      <td>No</td>\n",
       "    </tr>\n",
       "    <tr>\n",
       "      <th>5633</th>\n",
       "      <td>0.846563</td>\n",
       "      <td>-0.432556</td>\n",
       "      <td>-0.542267</td>\n",
       "      <td>0.092467</td>\n",
       "      <td>No</td>\n",
       "    </tr>\n",
       "  </tbody>\n",
       "</table>\n",
       "<p>5634 rows × 5 columns</p>\n",
       "</div>"
      ],
      "text/plain": [
       "             0         1         2         3 churn\n",
       "0    -0.334388 -0.432556  0.929907 -0.016113    No\n",
       "1    -1.271005 -0.432556 -0.425956 -0.980816   Yes\n",
       "2    -0.334388 -0.432556  1.029603 -0.071293   Yes\n",
       "3     0.072836 -0.432556  0.462999  0.159246    No\n",
       "4     1.172343 -0.432556  1.293797  1.818069    No\n",
       "...        ...       ...       ...       ...   ...\n",
       "5629 -0.090053 -0.432556 -0.502389 -0.370257    No\n",
       "5630  1.416677  2.311838  1.697565  2.440534    No\n",
       "5631 -1.271005 -0.432556 -0.979267 -0.988131   Yes\n",
       "5632 -0.782335 -0.432556 -1.346480 -0.852795    No\n",
       "5633  0.846563 -0.432556 -0.542267  0.092467    No\n",
       "\n",
       "[5634 rows x 5 columns]"
      ]
     },
     "execution_count": 229,
     "metadata": {},
     "output_type": "execute_result"
    }
   ],
   "source": [
    "data_ups = pd.concat([X_train, y_train], axis=1)\n",
    "data_ups"
   ]
  },
  {
   "cell_type": "code",
   "execution_count": 230,
   "id": "d7f1f910",
   "metadata": {},
   "outputs": [],
   "source": [
    "C = data_ups[data_ups['churn'] == 'Yes']\n",
    "D = data_ups[data_ups['churn'] == 'No']"
   ]
  },
  {
   "cell_type": "code",
   "execution_count": 231,
   "id": "3e580fac",
   "metadata": {},
   "outputs": [
    {
     "name": "stdout",
     "output_type": "stream",
     "text": [
      "(1518, 5)\n",
      "(4116, 5)\n"
     ]
    }
   ],
   "source": [
    "print(C.shape)\n",
    "print(D.shape)"
   ]
  },
  {
   "cell_type": "code",
   "execution_count": 232,
   "id": "5dd1b977",
   "metadata": {},
   "outputs": [],
   "source": [
    "C = C.sample(len(D), replace=True)"
   ]
  },
  {
   "cell_type": "code",
   "execution_count": 233,
   "id": "8f93f543",
   "metadata": {},
   "outputs": [
    {
     "data": {
      "text/plain": [
       "(8232, 5)"
      ]
     },
     "execution_count": 233,
     "metadata": {},
     "output_type": "execute_result"
    }
   ],
   "source": [
    "churn_upsampled = pd.concat([C, D]).sample(frac=1) #concat and shuffle the data\n",
    "churn_upsampled.shape"
   ]
  },
  {
   "cell_type": "code",
   "execution_count": 234,
   "id": "b936544f",
   "metadata": {},
   "outputs": [
    {
     "data": {
      "text/plain": [
       "No     4116\n",
       "Yes    4116\n",
       "Name: churn, dtype: int64"
      ]
     },
     "execution_count": 234,
     "metadata": {},
     "output_type": "execute_result"
    }
   ],
   "source": [
    "churn_upsampled['churn'].value_counts()"
   ]
  },
  {
   "cell_type": "code",
   "execution_count": 235,
   "id": "ebd4afee",
   "metadata": {},
   "outputs": [],
   "source": [
    "X_train_ups = churn_upsampled.drop(['churn'], axis=1)\n",
    "y_train_ups = churn_upsampled['churn']"
   ]
  },
  {
   "cell_type": "code",
   "execution_count": 236,
   "id": "976393a1",
   "metadata": {},
   "outputs": [
    {
     "name": "stdout",
     "output_type": "stream",
     "text": [
      "The accuracyscore is:  0.7416607523066004 \n",
      "\n",
      "Value counts of the model predictions:  \n",
      " No     858\n",
      "Yes    551\n",
      "dtype: int64\n"
     ]
    }
   ],
   "source": [
    "classification_model(X_train_ups, y_train_ups, X_test, y_test, w=None)"
   ]
  },
  {
   "cell_type": "code",
   "execution_count": 237,
   "id": "5c07de4a",
   "metadata": {},
   "outputs": [
    {
     "name": "stdout",
     "output_type": "stream",
     "text": [
      "Classification report: \n",
      "\n",
      "              precision    recall  f1-score   support\n",
      "\n",
      "          No       0.90      0.73      0.81      1058\n",
      "         Yes       0.49      0.77      0.60       351\n",
      "\n",
      "    accuracy                           0.74      1409\n",
      "   macro avg       0.70      0.75      0.70      1409\n",
      "weighted avg       0.80      0.74      0.76      1409\n",
      "\n",
      "Confusion matrix:\n"
     ]
    },
    {
     "data": {
      "image/png": "[encoded data removed]",
      "text/plain": [
       "<Figure size 432x288 with 2 Axes>"
      ]
     },
     "metadata": {
      "needs_background": "light"
     },
     "output_type": "display_data"
    }
   ],
   "source": [
    "metrics_classification(X_train_ups, y_train_ups, X_test, y_test, w=None)"
   ]
  },
  {
   "cell_type": "markdown",
   "id": "e0940eb3",
   "metadata": {},
   "source": [
    "## Upsampling with SMOTE"
   ]
  },
  {
   "cell_type": "code",
   "execution_count": 238,
   "id": "67dbd5f1",
   "metadata": {},
   "outputs": [],
   "source": [
    "X_train_smote = X_train.copy()\n",
    "y_train_smote = y_train.copy()"
   ]
  },
  {
   "cell_type": "code",
   "execution_count": 239,
   "id": "573b1258",
   "metadata": {},
   "outputs": [
    {
     "data": {
      "text/plain": [
       "churn\n",
       "No       4116\n",
       "Yes      4116\n",
       "dtype: int64"
      ]
     },
     "execution_count": 239,
     "metadata": {},
     "output_type": "execute_result"
    }
   ],
   "source": [
    "smote = SMOTE()\n",
    "\n",
    "X_train_smote, y_train_smote = smote.fit_resample(X_train_smote, y_train_smote)\n",
    "y_train_smote.value_counts()"
   ]
  },
  {
   "cell_type": "code",
   "execution_count": 240,
   "id": "e8655813",
   "metadata": {},
   "outputs": [
    {
     "name": "stdout",
     "output_type": "stream",
     "text": [
      "The accuracyscore is:  0.7416607523066004 \n",
      "\n",
      "Value counts of the model predictions:  \n",
      " No     864\n",
      "Yes    545\n",
      "dtype: int64\n"
     ]
    }
   ],
   "source": [
    "classification_model(X_train_smote, y_train_smote, X_test, y_test, w=None)"
   ]
  },
  {
   "cell_type": "code",
   "execution_count": 241,
   "id": "f2cde509",
   "metadata": {},
   "outputs": [
    {
     "name": "stdout",
     "output_type": "stream",
     "text": [
      "Classification report: \n",
      "\n",
      "              precision    recall  f1-score   support\n",
      "\n",
      "          No       0.90      0.74      0.81      1058\n",
      "         Yes       0.49      0.76      0.59       351\n",
      "\n",
      "    accuracy                           0.74      1409\n",
      "   macro avg       0.69      0.75      0.70      1409\n",
      "weighted avg       0.80      0.74      0.76      1409\n",
      "\n",
      "Confusion matrix:\n"
     ]
    },
    {
     "data": {
      "image/png": "[encoded data removed]",
      "text/plain": [
       "<Figure size 432x288 with 2 Axes>"
      ]
     },
     "metadata": {
      "needs_background": "light"
     },
     "output_type": "display_data"
    }
   ],
   "source": [
    "metrics_classification(X_train_smote, y_train_smote, X_test, y_test, w=None)\n"
   ]
  },
  {
   "cell_type": "markdown",
   "id": "1f910bca",
   "metadata": {},
   "source": [
    "## Tomeklinks"
   ]
  },
  {
   "cell_type": "code",
   "execution_count": 242,
   "id": "fd05f3a5",
   "metadata": {},
   "outputs": [],
   "source": [
    "X_train_tkl = X_train.copy()\n",
    "y_train_tkl = y_train.copy()"
   ]
  },
  {
   "cell_type": "code",
   "execution_count": 243,
   "id": "0f49a94a",
   "metadata": {},
   "outputs": [],
   "source": [
    "tkl = TomekLinks('majority')\n",
    "\n",
    "X_train_tkl, y_train_tkl = tkl.fit_resample(X_train_tkl, y_train_tkl)"
   ]
  },
  {
   "cell_type": "code",
   "execution_count": 244,
   "id": "ce1681f0",
   "metadata": {},
   "outputs": [
    {
     "name": "stdout",
     "output_type": "stream",
     "text": [
      "The accuracyscore is:  0.7920511000709723 \n",
      "\n",
      "Value counts of the model predictions:  \n",
      " No     1075\n",
      "Yes     334\n",
      "dtype: int64\n"
     ]
    }
   ],
   "source": [
    "classification_model(X_train_tkl, y_train_tkl, X_test, y_test, w=None)"
   ]
  },
  {
   "cell_type": "code",
   "execution_count": 245,
   "id": "e7ee77f1",
   "metadata": {},
   "outputs": [
    {
     "name": "stdout",
     "output_type": "stream",
     "text": [
      "Classification report: \n",
      "\n",
      "              precision    recall  f1-score   support\n",
      "\n",
      "          No       0.86      0.87      0.86      1058\n",
      "         Yes       0.59      0.56      0.57       351\n",
      "\n",
      "    accuracy                           0.79      1409\n",
      "   macro avg       0.72      0.71      0.72      1409\n",
      "weighted avg       0.79      0.79      0.79      1409\n",
      "\n",
      "Confusion matrix:\n"
     ]
    },
    {
     "data": {
      "image/png": "[encoded data removed]",
      "text/plain": [
       "<Figure size 432x288 with 2 Axes>"
      ]
     },
     "metadata": {
      "needs_background": "light"
     },
     "output_type": "display_data"
    }
   ],
   "source": [
    "metrics_classification(X_train_tkl, y_train_tkl, X_test, y_test, w=None)"
   ]
  },
  {
   "cell_type": "code",
   "execution_count": null,
   "id": "5b3ed164",
   "metadata": {},
   "outputs": [],
   "source": []
  }
 ],
 "metadata": {
  "kernelspec": {
   "display_name": "Python 3",
   "language": "python",
   "name": "python3"
  },
  "language_info": {
   "codemirror_mode": {
    "name": "ipython",
    "version": 3
   },
   "file_extension": ".py",
   "mimetype": "text/x-python",
   "name": "python",
   "nbconvert_exporter": "python",
   "pygments_lexer": "ipython3",
   "version": "3.9.4"
  },
  "toc": {
   "base_numbering": 1,
   "nav_menu": {},
   "number_sections": true,
   "sideBar": true,
   "skip_h1_title": false,
   "title_cell": "Table of Contents",
   "title_sidebar": "Contents",
   "toc_cell": false,
   "toc_position": {},
   "toc_section_display": true,
   "toc_window_display": true
  }
 },
 "nbformat": 4,
 "nbformat_minor": 5
}
